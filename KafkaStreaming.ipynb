{
 "cells": [
  {
   "cell_type": "code",
   "execution_count": 1,
   "id": "db898f23",
   "metadata": {},
   "outputs": [
    {
     "name": "stderr",
     "output_type": "stream",
     "text": [
      "WARNING: An illegal reflective access operation has occurred\n",
      "WARNING: Illegal reflective access by org.apache.spark.unsafe.Platform (file:/opt/spark/jars/spark-unsafe_2.12-3.1.2.jar) to constructor java.nio.DirectByteBuffer(long,int)\n",
      "WARNING: Please consider reporting this to the maintainers of org.apache.spark.unsafe.Platform\n",
      "WARNING: Use --illegal-access=warn to enable warnings of further illegal reflective access operations\n",
      "WARNING: All illegal access operations will be denied in a future release\n"
     ]
    },
    {
     "name": "stdout",
     "output_type": "stream",
     "text": [
      ":: loading settings :: url = jar:file:/opt/spark/jars/ivy-2.4.0.jar!/org/apache/ivy/core/settings/ivysettings.xml\n"
     ]
    },
    {
     "name": "stderr",
     "output_type": "stream",
     "text": [
      "Ivy Default Cache set to: /home/klovercloud/.ivy2/cache\n",
      "The jars for the packages stored in: /home/klovercloud/.ivy2/jars\n",
      "org.apache.spark#spark-sql-kafka-0-10_2.12 added as a dependency\n",
      ":: resolving dependencies :: org.apache.spark#spark-submit-parent-20602d26-d774-4361-9cdf-b44532da3a82;1.0\n",
      "\tconfs: [default]\n",
      "\tfound org.apache.spark#spark-sql-kafka-0-10_2.12;3.1.2 in central\n",
      "\tfound org.apache.spark#spark-token-provider-kafka-0-10_2.12;3.1.2 in central\n",
      "\tfound org.apache.kafka#kafka-clients;2.6.0 in central\n",
      "\tfound com.github.luben#zstd-jni;1.4.8-1 in central\n",
      "\tfound org.lz4#lz4-java;1.7.1 in central\n",
      "\tfound org.xerial.snappy#snappy-java;1.1.8.2 in central\n",
      "\tfound org.slf4j#slf4j-api;1.7.30 in central\n",
      "\tfound org.spark-project.spark#unused;1.0.0 in central\n",
      "\tfound org.apache.commons#commons-pool2;2.6.2 in central\n",
      ":: resolution report :: resolve 371ms :: artifacts dl 7ms\n",
      "\t:: modules in use:\n",
      "\tcom.github.luben#zstd-jni;1.4.8-1 from central in [default]\n",
      "\torg.apache.commons#commons-pool2;2.6.2 from central in [default]\n",
      "\torg.apache.kafka#kafka-clients;2.6.0 from central in [default]\n",
      "\torg.apache.spark#spark-sql-kafka-0-10_2.12;3.1.2 from central in [default]\n",
      "\torg.apache.spark#spark-token-provider-kafka-0-10_2.12;3.1.2 from central in [default]\n",
      "\torg.lz4#lz4-java;1.7.1 from central in [default]\n",
      "\torg.slf4j#slf4j-api;1.7.30 from central in [default]\n",
      "\torg.spark-project.spark#unused;1.0.0 from central in [default]\n",
      "\torg.xerial.snappy#snappy-java;1.1.8.2 from central in [default]\n",
      "\t---------------------------------------------------------------------\n",
      "\t|                  |            modules            ||   artifacts   |\n",
      "\t|       conf       | number| search|dwnlded|evicted|| number|dwnlded|\n",
      "\t---------------------------------------------------------------------\n",
      "\t|      default     |   9   |   0   |   0   |   0   ||   9   |   0   |\n",
      "\t---------------------------------------------------------------------\n",
      ":: retrieving :: org.apache.spark#spark-submit-parent-20602d26-d774-4361-9cdf-b44532da3a82\n",
      "\tconfs: [default]\n",
      "\t0 artifacts copied, 9 already retrieved (0kB/9ms)\n",
      "22/02/23 05:36:20 WARN NativeCodeLoader: Unable to load native-hadoop library for your platform... using builtin-java classes where applicable\n",
      "Using Spark's default log4j profile: org/apache/spark/log4j-defaults.properties\n",
      "Setting default log level to \"WARN\".\n",
      "To adjust logging level use sc.setLogLevel(newLevel). For SparkR, use setLogLevel(newLevel).\n",
      "22/02/23 05:36:22 WARN ExecutorAllocationManager: Dynamic allocation without a shuffle service is an experimental feature.\n"
     ]
    }
   ],
   "source": [
    "import pyspark\n",
    "import os\n",
    "from pyspark.conf import SparkConf\n",
    "from pyspark.sql import SparkSession\n",
    "from pyspark.streaming import *\n",
    "from pyspark.sql.functions import *\n",
    "\n",
    "conf = (SparkConf()\n",
    "       .set(\"spark.driver.bindAddress\", \"0.0.0.0\")\\\n",
    "       .set(\"spark.submit.deployMode\", \"client\")\\\n",
    "       .set(\"spark.kubernetes.driver.pod.name\", os.getenv(\"MY_POD_NAME\"))\\\n",
    "       .set(\"spark.kubernetes.authenticate.subdmission.caCertFile\", \"/var/run/secrets/kubernetes.io/serviceaccount/ca.crt\")\\\n",
    "       .set(\"spark.kubernetes.authenticate.submission.oauthTokenFile\", \"/var/run/secrets/kubernetes.io/serviceaccount/token\")\\\n",
    "       .set(\"spark.kubernetes.authenticate.driver.serviceAccountName\", \"spark-driver\")\\\n",
    "       .set(\"spark.kubernetes.namespace\", os.getenv(\"MY_POD_NAMESPACE\"))\\\n",
    "       .set(\"spark.executor.instances\", \"1\")\\\n",
    "       .set(\"spark.dynamicAllocation.maxExecutors\", \"3\")\\\n",
    "       .set(\"spark.dynamicAllocation.enabled\", \"true\")\\\n",
    "       .set(\"spark.dynamicAllocation.shuffleTracking.enabled\", \"true\")\\\n",
    "       .set(\"spark.driver.host\", \"spark-driver\")\\\n",
    "       .set(\"spark.driver.port\", \"20020\")\\\n",
    "       .set(\"spark.kubernetes.executor.request.cores\", \"1\")\\\n",
    "       .set(\"spark.kubernetes.executor.limit.cores\", \"2\")\\\n",
    "       .set(\"spark.executor.memory\", \"4096m\")\\\n",
    "       .set(\"spark.kubernetes.container.image\", \"klovercloud/airflow-spark-k8s-driver:3.1.2\")\\\n",
    "       .set(\"spark.kubernetes.container.image.pullPolicy\", \"IfNotPresent\")\\\n",
    "       .set(\"spark.sql.extensions\",\"org.apache.iceberg.spark.extensions.IcebergSparkSessionExtensions\")\\\n",
    "       .set(\"spark.sql.catalog.spark_catalog\",\"org.apache.iceberg.spark.SparkSessionCatalog\")\\\n",
    "       .set(\"spark.sql.catalog.spark_catalog.type\",\"hive\")\\\n",
    "       .set(\"spark.hadoop.hive.metastore.uris\",\"thrift://hive-metastore.analytics-dev:9083\")\\\n",
    "       .set(\"spark.hadoop.hive.metastore.warehouse.dir\",\"s3a://bigdata-dev-cmfcknil/warehouse/\")\\\n",
    "       .set(\"spark.hadoop.fs.s3a.connection.ssl.enabled\",\"true\")\\\n",
    "       .set(\"spark.hadoop.fs.s3a.path.style.access\",\"true\")\\\n",
    "       .set(\"spark.hadoop.fs.s3a.endpoint\",\"https://kcs3.bd-1.wpc.waltonelectronics.com\")\\\n",
    "       .set(\"spark.hadoop.fs.s3a.access.key\",\"30J9IFFY75NVQZVHG4D4\")\\\n",
    "       .set(\"spark.hadoop.fs.s3a.secret.key\",\"WMGk6kqq5erjqZjnqo0QItSQ2zuoNWEpHIphsTgR\")\\\n",
    "       .set(\"spark.hadoop.fs.s3a.attempts.maximum\",\"1\")\\\n",
    "       .set(\"spark.hadoop.fs.s3a.connection.establish.timeout\",\"500\")\\\n",
    "       .set(\"spark.hadoop.datanucleus.autoCreateSchema\",\"true\")\\\n",
    "       .set(\"spark.hadoop.datanucleus.fixedDatastore\",\"false\"))\\\n",
    "       .set(\"spark.jars.packages\",\"org.apache.spark:spark-sql-kafka-0-10_2.12:3.1.2\");\n",
    "       #.set(\"spark.jars.packages\",\"org.apache.spark:spark-streaming-kafka-0-10_2.12:3.2.1\")\n",
    "\n",
    "       \n",
    "\n",
    "\n",
    "spark = SparkSession.builder \\\n",
    "            .master(\"k8s://https://kubernetes.default:443\") \\\n",
    "            .appName(\"spark-streaming\") \\\n",
    "            .config(conf=conf).enableHiveSupport().getOrCreate()\n"
   ]
  },
  {
   "cell_type": "code",
   "execution_count": 2,
   "id": "677d18af",
   "metadata": {},
   "outputs": [
    {
     "name": "stderr",
     "output_type": "stream",
     "text": [
      "                                                                                \r"
     ]
    }
   ],
   "source": [
    "\n",
    "batch_df = spark \\\n",
    "    .read \\\n",
    "    .format(\"kafka\") \\\n",
    "    .option(\"kafka.bootstrap.servers\", KAFKA_BOOTSTRAP_SERVERS_CONS) \\\n",
    "    .option(\"subscribe\", KAFKA_TOPIC_NAME_CONS) \\\n",
    "    .option(\"group.id\", \"Structured-Streaming-kpi\")\\\n",
    "    .load()\n",
    "batch_df=batch_df.withColumn(\"key\",batch_df.key.cast(StringType()))\\\n",
    "                 .withColumn(\"value\",batch_df.value.cast(StringType()))\\\n",
    "                 .filter(batch_df.value.contains('{'))\n",
    "\n",
    "json_schema = spark.read.json(batch_df.rdd.map(lambda row: row.value),multiLine=True).schema\n"
   ]
  },
  {
   "cell_type": "code",
   "execution_count": null,
   "id": "cdacbc36",
   "metadata": {},
   "outputs": [
    {
     "name": "stderr",
     "output_type": "stream",
     "text": [
      "22/02/23 05:36:46 WARN package: Truncated the string representation of a plan since it was too large. This behavior can be adjusted by setting 'spark.sql.debug.maxToStringFields'.\n",
      "22/02/23 05:36:47 WARN MetricsConfig: Cannot locate configuration: tried hadoop-metrics2-s3a-file-system.properties,hadoop-metrics2.properties\n",
      "22/02/23 05:55:49 WARN WatchConnectionManager: Exec Failure                     \n",
      "java.io.EOFException\n",
      "\tat okio.RealBufferedSource.require(RealBufferedSource.java:61)\n",
      "\tat okio.RealBufferedSource.readByte(RealBufferedSource.java:74)\n",
      "\tat okhttp3.internal.ws.WebSocketReader.readHeader(WebSocketReader.java:117)\n",
      "\tat okhttp3.internal.ws.WebSocketReader.processNextFrame(WebSocketReader.java:101)\n",
      "\tat okhttp3.internal.ws.RealWebSocket.loopReader(RealWebSocket.java:274)\n",
      "\tat okhttp3.internal.ws.RealWebSocket$2.onResponse(RealWebSocket.java:214)\n",
      "\tat okhttp3.RealCall$AsyncCall.execute(RealCall.java:203)\n",
      "\tat okhttp3.internal.NamedRunnable.run(NamedRunnable.java:32)\n",
      "\tat java.base/java.util.concurrent.ThreadPoolExecutor.runWorker(ThreadPoolExecutor.java:1128)\n",
      "\tat java.base/java.util.concurrent.ThreadPoolExecutor$Worker.run(ThreadPoolExecutor.java:628)\n",
      "\tat java.base/java.lang.Thread.run(Thread.java:829)\n",
      "22/02/23 05:55:50 WARN ExecutorPodsWatchSnapshotSource: Kubernetes client has been closed (this is expected if the application is shutting down.)\n",
      "io.fabric8.kubernetes.client.KubernetesClientException: too old resource version: 53839869 (53842941)\n",
      "\tat io.fabric8.kubernetes.client.dsl.internal.WatchConnectionManager$1.onMessage(WatchConnectionManager.java:258)\n",
      "\tat okhttp3.internal.ws.RealWebSocket.onReadMessage(RealWebSocket.java:323)\n",
      "\tat okhttp3.internal.ws.WebSocketReader.readMessageFrame(WebSocketReader.java:219)\n",
      "\tat okhttp3.internal.ws.WebSocketReader.processNextFrame(WebSocketReader.java:105)\n",
      "\tat okhttp3.internal.ws.RealWebSocket.loopReader(RealWebSocket.java:274)\n",
      "\tat okhttp3.internal.ws.RealWebSocket$2.onResponse(RealWebSocket.java:214)\n",
      "\tat okhttp3.RealCall$AsyncCall.execute(RealCall.java:203)\n",
      "\tat okhttp3.internal.NamedRunnable.run(NamedRunnable.java:32)\n",
      "\tat java.base/java.util.concurrent.ThreadPoolExecutor.runWorker(ThreadPoolExecutor.java:1128)\n",
      "\tat java.base/java.util.concurrent.ThreadPoolExecutor$Worker.run(ThreadPoolExecutor.java:628)\n",
      "\tat java.base/java.lang.Thread.run(Thread.java:829)\n",
      "                                                                                \r"
     ]
    }
   ],
   "source": [
    "input_df = spark \\\n",
    "    .readStream \\\n",
    "    .format(\"kafka\") \\\n",
    "    .option(\"kafka.bootstrap.servers\", KAFKA_BOOTSTRAP_SERVERS_CONS) \\\n",
    "    .option(\"subscribe\", KAFKA_TOPIC_NAME_CONS) \\\n",
    "    .option(\"group.id\", \"Structured-Streaming-kpi\")\\\n",
    "    .load()\n",
    "\n",
    "\n",
    "\n",
    "\n",
    "#json_schema = spark.read.json(batch_df.rdd.map(lambda row: row.value),multiLine=True).schema\n",
    "\n",
    "parsed_df=input_df.withColumn(\"key\",input_df.key.cast(StringType()))\\\n",
    "                 .withColumn(\"value\",input_df.value.cast(StringType()))\\\n",
    "                 .filter(input_df.value.contains('{'))\\\n",
    "          .withColumn(\"value\", from_json(\"value\",json_schema))\\\n",
    "          .select(col('key'),col('value.*'),col('topic'),col('offset'),col('timestamp'))\n",
    "\n",
    "\n",
    "query=parsed_df.writeStream\\\n",
    "     .format(\"iceberg\")\\\n",
    "    .outputMode(\"append\")\\\n",
    "    .trigger(processingTime=\"20 seconds\")\\\n",
    "    .option(\"path\", \"iot.fridge__dev\")\\\n",
    "    .option(\"checkpointLocation\", \"s3a://bigdata-dev-cmfcknil/raw/test/iotcpfridge\")\\\n",
    "    .start()\\\n",
    "    .awaitTermination()"
   ]
  },
  {
   "cell_type": "code",
   "execution_count": null,
   "id": "815289c4",
   "metadata": {},
   "outputs": [],
   "source": [
    "spark.sql(\"DESCRIBE iot.fridge__dev\").show(40)"
   ]
  },
  {
   "cell_type": "code",
   "execution_count": null,
   "id": "24b6230c",
   "metadata": {},
   "outputs": [],
   "source": [
    "query.show(3)"
   ]
  }
 ],
 "metadata": {
  "kernelspec": {
   "display_name": "Python 3 (ipykernel)",
   "language": "python",
   "name": "python3"
  },
  "language_info": {
   "codemirror_mode": {
    "name": "ipython",
    "version": 3
   },
   "file_extension": ".py",
   "mimetype": "text/x-python",
   "name": "python",
   "nbconvert_exporter": "python",
   "pygments_lexer": "ipython3",
   "version": "3.9.7"
  }
 },
 "nbformat": 4,
 "nbformat_minor": 5
}
