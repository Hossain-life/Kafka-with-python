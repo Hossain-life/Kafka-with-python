{
 "cells": [
  {
   "cell_type": "code",
   "execution_count": 1,
   "id": "8b58e342",
   "metadata": {
    "execution": {
     "iopub.execute_input": "2022-03-12T16:36:21.020021Z",
     "iopub.status.busy": "2022-03-12T16:36:21.019633Z",
     "iopub.status.idle": "2022-03-12T16:36:21.086066Z",
     "shell.execute_reply": "2022-03-12T16:36:21.085469Z",
     "shell.execute_reply.started": "2022-03-12T16:36:21.019934Z"
    }
   },
   "outputs": [],
   "source": [
    "import paho.mqtt.client as mqtt\n",
    "from pykafka import KafkaClient\n",
    "from random import uniform\n",
    "import time\n"
   ]
  },
  {
   "cell_type": "code",
   "execution_count": 2,
   "id": "b82568d6",
   "metadata": {
    "execution": {
     "iopub.execute_input": "2022-03-12T16:36:22.987817Z",
     "iopub.status.busy": "2022-03-12T16:36:22.987604Z",
     "iopub.status.idle": "2022-03-12T16:36:22.991264Z",
     "shell.execute_reply": "2022-03-12T16:36:22.990709Z",
     "shell.execute_reply.started": "2022-03-12T16:36:22.987794Z"
    }
   },
   "outputs": [],
   "source": [
    "def on_connect(client, userdata, flags, rc):\n",
    "    print(\"Connected with result code \"+str(rc))\n",
    "\n",
    "    # Subscribing in on_connect() means that if we lose the connection and\n",
    "    # reconnect then subscriptions will be renewed.\n",
    "    client.subscribe(\"test\")"
   ]
  },
  {
   "cell_type": "code",
   "execution_count": 7,
   "id": "f86dfd96",
   "metadata": {
    "execution": {
     "iopub.execute_input": "2022-03-12T16:42:55.416493Z",
     "iopub.status.busy": "2022-03-12T16:42:55.416203Z",
     "iopub.status.idle": "2022-03-12T16:42:55.421110Z",
     "shell.execute_reply": "2022-03-12T16:42:55.420411Z",
     "shell.execute_reply.started": "2022-03-12T16:42:55.416464Z"
    }
   },
   "outputs": [],
   "source": [
    "\n",
    "\n",
    "client = mqtt.Client()\n",
    "\n",
    "\n",
    "client.username_pw_set(\"mosquitto\", \"mosquitto\")\n",
    "client.tls_set()\n",
    "client.tls_insecure_set(True)\n",
    "client.connect_async('mosquitto-mqtt-broker-prod.tcp.bd-1.wpc.waltonelectronics.com', 9443, 60)\n"
   ]
  },
  {
   "cell_type": "code",
   "execution_count": 8,
   "id": "92950681",
   "metadata": {
    "execution": {
     "iopub.execute_input": "2022-03-12T16:42:58.122057Z",
     "iopub.status.busy": "2022-03-12T16:42:58.121861Z",
     "iopub.status.idle": "2022-03-12T16:43:02.389820Z",
     "shell.execute_reply": "2022-03-12T16:43:02.389091Z",
     "shell.execute_reply.started": "2022-03-12T16:42:58.122035Z"
    }
   },
   "outputs": [],
   "source": [
    "kafka_client = KafkaClient(hosts=\"localhost:9092\")\n",
    "kafka_topic = kafka_client.topics['test']\n",
    "kafka_producer = kafka_topic.get_sync_producer()"
   ]
  },
  {
   "cell_type": "code",
   "execution_count": 9,
   "id": "82a8432a",
   "metadata": {
    "execution": {
     "iopub.execute_input": "2022-03-12T16:43:02.391221Z",
     "iopub.status.busy": "2022-03-12T16:43:02.391042Z",
     "iopub.status.idle": "2022-03-12T16:43:02.394879Z",
     "shell.execute_reply": "2022-03-12T16:43:02.394372Z",
     "shell.execute_reply.started": "2022-03-12T16:43:02.391189Z"
    }
   },
   "outputs": [],
   "source": [
    "def on_message(client, userdata, message):\n",
    "    msg_payload = str(message.payload)\n",
    "    print(\"Received MQTT message: \", msg_payload)\n",
    "    kafka_producer.produce(msg_payload.encode('ascii'))\n",
    "    print(\"KAFKA: Just published \" + msg_payload )"
   ]
  },
  {
   "cell_type": "code",
   "execution_count": 10,
   "id": "9bb6716b",
   "metadata": {
    "execution": {
     "iopub.execute_input": "2022-03-12T16:43:04.689913Z",
     "iopub.status.busy": "2022-03-12T16:43:04.689571Z",
     "iopub.status.idle": "2022-03-12T16:48:04.757255Z",
     "shell.execute_reply": "2022-03-12T16:48:04.756467Z",
     "shell.execute_reply.started": "2022-03-12T16:43:04.689889Z"
    }
   },
   "outputs": [
    {
     "ename": "AttributeError",
     "evalue": "'Client' object has no attribute 'loop_end'",
     "output_type": "error",
     "traceback": [
      "\u001b[0;31m---------------------------------------------------------------------------\u001b[0m",
      "\u001b[0;31mAttributeError\u001b[0m                            Traceback (most recent call last)",
      "Input \u001b[0;32mIn [10]\u001b[0m, in \u001b[0;36m<module>\u001b[0;34m\u001b[0m\n\u001b[1;32m      3\u001b[0m client\u001b[38;5;241m.\u001b[39mon_message \u001b[38;5;241m=\u001b[39m on_message\n\u001b[1;32m      4\u001b[0m time\u001b[38;5;241m.\u001b[39msleep(\u001b[38;5;241m300\u001b[39m)\n\u001b[0;32m----> 5\u001b[0m \u001b[43mclient\u001b[49m\u001b[38;5;241;43m.\u001b[39;49m\u001b[43mloop_end\u001b[49m()\n",
      "\u001b[0;31mAttributeError\u001b[0m: 'Client' object has no attribute 'loop_end'"
     ]
    }
   ],
   "source": [
    "client.loop_start()\n",
    "client.on_connect = on_connect\n",
    "client.on_message = on_message\n",
    "time.sleep(300)\n",
    "client.loop_end()"
   ]
  }
 ],
 "metadata": {
  "kernelspec": {
   "display_name": "Python 3 (ipykernel)",
   "language": "python",
   "name": "python3"
  },
  "language_info": {
   "codemirror_mode": {
    "name": "ipython",
    "version": 3
   },
   "file_extension": ".py",
   "mimetype": "text/x-python",
   "name": "python",
   "nbconvert_exporter": "python",
   "pygments_lexer": "ipython3",
   "version": "3.9.7"
  }
 },
 "nbformat": 4,
 "nbformat_minor": 5
}
